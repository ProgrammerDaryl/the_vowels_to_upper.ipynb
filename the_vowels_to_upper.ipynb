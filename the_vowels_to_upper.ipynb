{
 "cells": [
  {
   "cell_type": "code",
   "execution_count": 6,
   "metadata": {},
   "outputs": [
    {
     "name": "stdout",
     "output_type": "stream",
     "text": [
      "method name: vowelsToUpper\n",
      "input argument:  supernova And Armageddon\n",
      "return argument:  sUpErnOvA And ArmAgEddOn\n",
      "vowelsToUpper \"supernova And Armageddon\" == \"sUpErnOvA And ArmAgEddOn\"\n"
     ]
    }
   ],
   "source": [
    "# ask the user to input text\n",
    "data = input(\"Please, type any kind of data here: \")\n",
    "# using the list comprehension\n",
    "vowels_to_upper = ''.join([text.upper() if text in \"aeiou\" else text for text in data])\n",
    "print(\"method name: vowelsToUpper\")\n",
    "print(\"input argument: \", data)\n",
    "print(\"return argument: \", vowels_to_upper)\n",
    "print(\"vowelsToUpper\", f'\"{data}\"', \"==\", f'\"{vowels_to_upper}\"')"
   ]
  }
 ],
 "metadata": {
  "kernelspec": {
   "display_name": "Python 3",
   "language": "python",
   "name": "python3"
  },
  "language_info": {
   "codemirror_mode": {
    "name": "ipython",
    "version": 3
   },
   "file_extension": ".py",
   "mimetype": "text/x-python",
   "name": "python",
   "nbconvert_exporter": "python",
   "pygments_lexer": "ipython3",
   "version": "3.11.9"
  }
 },
 "nbformat": 4,
 "nbformat_minor": 2
}
